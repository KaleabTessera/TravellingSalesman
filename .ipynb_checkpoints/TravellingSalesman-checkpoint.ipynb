{
 "cells": [
  {
   "cell_type": "markdown",
   "metadata": {},
   "source": [
    "<center> \n",
    "        <h1>\n",
    "    Travelling Salesman Problem\n",
    "        </h1>\n",
    "        <h2>\n",
    "    Large Scale Optimization for Data Science\n",
    "        </h2>\n",
    "        <h3>\n",
    "    Kale-ab Tessera, 1973752,\n",
    "        </h3>,\n",
    "    </center>"
   ]
  },
  {
   "cell_type": "code",
   "execution_count": 20,
   "metadata": {},
   "outputs": [],
   "source": [
    "import numpy as np\n",
    "class TravellingSalesman:\n",
    "    \n",
    "    def __init__(self, initialT, d_ij, showTourOutput = False):\n",
    "        self.T = initialT\n",
    "        self.d_ij = d_ij \n",
    "        self.D = 1000000000000000000\n",
    "        self.showTourOutput = showTourOutput\n",
    "        \n",
    "    def calculateLengthOfTour(self,tour, D_ij):\n",
    "        sumDistance = 0\n",
    "        for i in range(len(tour)):\n",
    "            v_1 = tour[i]\n",
    "        \n",
    "            #If at the end of tour, use home V\n",
    "            if(i == (len(tour) -1 )):\n",
    "                v_2 = tour[0]\n",
    "            else:\n",
    "                v_2 = tour[i+1]\n",
    "        \n",
    "            #Correcting for indexs starting at 0\n",
    "            v_1 -= 1\n",
    "            v_2 -= 1\n",
    "            \n",
    "            sumDistance += D_ij[v_1][v_2]\n",
    "        \n",
    "        return sumDistance   \n",
    "        \n",
    "    def runTS(self):\n",
    "        N = len(self.T)\n",
    "        for i in range(N):\n",
    "            for j in range(i+2,N):\n",
    "                    newT = np.copy(self.T)\n",
    "                    #Break link (c_i, c_i+1)\n",
    "                    newT[i+1] = self.T[j]\n",
    "                    ind = i +2\n",
    "                    for k in range(j-1,i,-1):\n",
    "                        newT[ind] = self.T[k]\n",
    "                        ind += 1\n",
    "                    newT_D = self.calculateLengthOfTour(newT,self.d_ij)\n",
    "                    \n",
    "                    if(self.showTourOutput == True):\n",
    "                        print(newT)\n",
    "                        \n",
    "                    if(newT_D < self.D):\n",
    "                        self.T = np.copy(newT)\n",
    "                        self.D = np.copy(newT_D)               \n",
    "                        self.runTS()\n",
    "                        \n",
    "                        \n"
   ]
  },
  {
   "cell_type": "code",
   "execution_count": 21,
   "metadata": {},
   "outputs": [],
   "source": [
    "#Step 1 - Initial T\n",
    "T = np.array([2,6,1,7,5,3,4])\n",
    "D_ij = np.array(\n",
    "        [ 0, 1, 3, 5, 2, 1, 1,\n",
    "          1, 0, 1, 6, 9, 4, 3,\n",
    "          3, 1, 0, 1, 5, 3, 2,\n",
    "          5, 6, 1, 0, 1, 2, 5,\n",
    "          2, 9, 5, 1, 0, 1, 6,\n",
    "          1, 4, 3, 2, 1, 0, 1,\n",
    "          1, 3, 2, 5, 6, 1, 0\n",
    "        ])\n",
    "D_ij = D_ij.reshape(7,7)\n",
    "\n",
    "TS = TravellingSalesman(T,D_ij)"
   ]
  },
  {
   "cell_type": "code",
   "execution_count": 23,
   "metadata": {},
   "outputs": [
    {
     "name": "stdout",
     "output_type": "stream",
     "text": [
      "Shortest Distance:  7\n",
      "Best Path:  [2 3 4 5 6 7 1]\n"
     ]
    }
   ],
   "source": [
    "TS.runTS()\n",
    "print(\"Shortest Distance: \",TS.D)\n",
    "print(\"Best Path: \", TS.T)"
   ]
  }
 ],
 "metadata": {
  "kernelspec": {
   "display_name": "Python 3",
   "language": "python",
   "name": "python3"
  },
  "language_info": {
   "codemirror_mode": {
    "name": "ipython",
    "version": 3
   },
   "file_extension": ".py",
   "mimetype": "text/x-python",
   "name": "python",
   "nbconvert_exporter": "python",
   "pygments_lexer": "ipython3",
   "version": "3.6.4"
  }
 },
 "nbformat": 4,
 "nbformat_minor": 2
}
