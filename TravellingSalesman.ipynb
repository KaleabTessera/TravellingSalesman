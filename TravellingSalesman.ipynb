{
 "cells": [
  {
   "cell_type": "markdown",
   "metadata": {},
   "source": [
    "<center> \n",
    "        <h1>\n",
    "    Symmetric Travelling Salesman Problem\n",
    "        </h1>\n",
    "        <h2>\n",
    "    Large Scale Optimization for Data Science\n",
    "        </h2>\n",
    "        <h3>\n",
    "    Kale-ab Tessera, 1973752\n",
    "        </h3>,\n",
    "    </center>"
   ]
  },
  {
   "cell_type": "markdown",
   "metadata": {},
   "source": [
    "The TSP (Travelling Salesman Problem) is an optimization problem, where a salesman or agent, wants to visit **n** distinct cities (represented as vertices), while choosing the shortest **distance travelled/cost** (represented by edges). The problem can be rephrased as finding a **\"Hamiltonian circuit with minimum cost/length\"**. \n",
    "\n",
    "In this implementation, we use the 2-opt Heuristic approach on a Symmetric Travelling Salesman Problem, where we begin with an initial T and replace 2 edges with two new edges, with the aim to find a Tour with a smaller length/cost. This algorithm gradually improves and sets the current T to the **local minimum in it's Neighbourhood** (a set of two adjacent tours)."
   ]
  },
  {
   "cell_type": "code",
   "execution_count": 81,
   "metadata": {},
   "outputs": [],
   "source": [
    "import numpy as np\n",
    "class TravellingSalesman:\n",
    "    \n",
    "    def __init__(self, initialT, d_ij, showTourOutput = False):\n",
    "        #Step 1 - InitialT & d_ij is set to what is passed in.\n",
    "        self.T = initialT\n",
    "        self.d_ij = d_ij\n",
    "        # Step 2.1 - Set D to be length of tour T\n",
    "        self.D = len(initialT)\n",
    "        self.showTourOutput = showTourOutput\n",
    "        \n",
    "    def calculateLengthOfTour(self,tour):\n",
    "        sumDistance = 0\n",
    "        for i in range(len(tour)):\n",
    "            v_1 = tour[i]\n",
    "        \n",
    "            #If at the end of tour, use home V\n",
    "            if(i == (len(tour) -1 )):\n",
    "                v_2 = tour[0]\n",
    "            else:\n",
    "                v_2 = tour[i+1]\n",
    "        \n",
    "            #Correcting for indexs starting at 0\n",
    "            v_1 -= 1\n",
    "            v_2 -= 1\n",
    "            \n",
    "            sumDistance += self.d_ij[v_1][v_2]\n",
    "        \n",
    "        return sumDistance   \n",
    "        \n",
    "    def runTS(self):\n",
    "        N = len(self.T)\n",
    "        \n",
    "        #Step 2.2 - i = 1 and loops till N-3\n",
    "        for i in range(N-2):\n",
    "            \n",
    "        #Step 3 - j = i +2 and loops till N-1\n",
    "            for j in range(i+2,N):\n",
    "                    newT = np.copy(self.T)\n",
    "                    \n",
    "        #Step 4.1 - Break link (i,i+1) - create link (i,j) \n",
    "                    newT[i+1] = self.T[j]\n",
    "                    ind = i +2\n",
    "        #Step 4.2 - Break link (j,j+1) - create link (i+1,j+1)\n",
    "        #Change the order of the edges to follow the new edges created\n",
    "                    for k in range(j-1,i,-1):\n",
    "                        newT[ind] = self.T[k]\n",
    "                        ind += 1\n",
    "                    newT_D = self.calculateLengthOfTour(newT)\n",
    "                    \n",
    "                    if(self.showTourOutput == True):\n",
    "                        print(newT, \"Cost: \", newT_D, \"i: \",i,\"j: \",j)\n",
    "                        \n",
    "        #Step 4.3 \n",
    "        # If cost(newT) < D then set T := newT & update D & go back to Step 2 - self.runTS()\n",
    "            # else \n",
    "                # continue Step 3 (j = j + 1 and continue while j < N) \n",
    "                # or continue Step 2.2 (increase i, while i< N-2)\n",
    "                    if(newT_D < self.D):\n",
    "                        self.T = np.copy(newT)\n",
    "                        self.D = np.copy(newT_D)               \n",
    "                        self.runTS()\n",
    "                        \n",
    "                        \n"
   ]
  },
  {
   "cell_type": "code",
   "execution_count": 82,
   "metadata": {},
   "outputs": [],
   "source": [
    "#Step 1 - Setting InitialT and D_ij\n",
    "T = np.array([2,6,1,7,5,3,4])\n",
    "D_ij = np.array(\n",
    "        [ 0, 1, 3, 5, 2, 1, 1,\n",
    "          1, 0, 1, 6, 9, 4, 3,\n",
    "          3, 1, 0, 1, 5, 3, 2,\n",
    "          5, 6, 1, 0, 1, 2, 5,\n",
    "          2, 9, 5, 1, 0, 1, 6,\n",
    "          1, 4, 3, 2, 1, 0, 1,\n",
    "          1, 3, 2, 5, 6, 1, 0\n",
    "        ])\n",
    "D_ij = D_ij.reshape(7,7)\n",
    "\n",
    "#Passing in initialT and D_ij\n",
    "TS = TravellingSalesman(T,D_ij)"
   ]
  },
  {
   "cell_type": "code",
   "execution_count": 83,
   "metadata": {},
   "outputs": [
    {
     "name": "stdout",
     "output_type": "stream",
     "text": [
      "Shortest Distance:  7\n",
      "Best Path:  [2 6 1 7 5 3 4]\n"
     ]
    }
   ],
   "source": [
    "TS.runTS()\n",
    "print(\"Shortest Distance: \",TS.D)\n",
    "print(\"Best Path: \", TS.T)"
   ]
  }
 ],
 "metadata": {
  "kernelspec": {
   "display_name": "Python 3",
   "language": "python",
   "name": "python3"
  },
  "language_info": {
   "codemirror_mode": {
    "name": "ipython",
    "version": 3
   },
   "file_extension": ".py",
   "mimetype": "text/x-python",
   "name": "python",
   "nbconvert_exporter": "python",
   "pygments_lexer": "ipython3",
   "version": "3.6.4"
  }
 },
 "nbformat": 4,
 "nbformat_minor": 2
}
