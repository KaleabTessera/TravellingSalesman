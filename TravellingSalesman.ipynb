{
 "cells": [
  {
   "cell_type": "markdown",
   "metadata": {},
   "source": [
    "<center> \n",
    "        <h1>\n",
    "    Travelling Salesman Problem\n",
    "        </h1>\n",
    "        <h2>\n",
    "    Large Scale Optimization for Data Science\n",
    "        </h2>\n",
    "        <h3>\n",
    "    Kale-ab Tessera, 1973752,\n",
    "        </h3>,\n",
    "    </center>"
   ]
  },
  {
   "cell_type": "code",
   "execution_count": 20,
   "metadata": {},
   "outputs": [
    {
     "name": "stdout",
     "output_type": "stream",
     "text": [
      "Vertices 1 5\n",
      "Vertices 5 0\n",
      "Vertices 0 6\n",
      "Vertices 6 4\n",
      "Vertices 4 2\n",
      "Vertices 2 3\n",
      "Vertices 3 1\n",
      "24\n"
     ]
    }
   ],
   "source": [
    "import numpy as np\n",
    "def calculateLengthOfTour(tour, D_ij):\n",
    "    sumDistance = 0\n",
    "    for i in range(len(tour)):\n",
    "        v_1 = tour[i]\n",
    "        \n",
    "        #If at the end of tour, use home V\n",
    "        if(i == (len(tour) -1 )):\n",
    "            v_2 = tour[0]\n",
    "        else:\n",
    "            v_2 = tour[i+1]\n",
    "        \n",
    "        #Correcting for indexs starting at 0\n",
    "        v_1 -= 1\n",
    "        v_2 -= 1\n",
    "        print(\"Vertices\", v_1, v_2)\n",
    "            \n",
    "        sumDistance += D_ij[v_1][v_2]\n",
    "        \n",
    "    return sumDistance     \n",
    "\n",
    "#Step 1 - Initial T\n",
    "T = np.array([2,6,1,7,5,3,4])\n",
    "D_ij = np.array(\n",
    "        [ 0, 1, 3, 5, 2, 1, 1,\n",
    "          1, 0, 1, 6, 9, 4, 3,\n",
    "          3, 1, 0, 1, 5, 3, 2,\n",
    "          5, 6, 1, 0, 1, 2, 5,\n",
    "          2, 9, 5, 1, 0, 1, 6,\n",
    "          1, 4, 3, 2, 1, 0, 1,\n",
    "          1, 3, 2, 5, 6, 1, 0\n",
    "        ])\n",
    "D_ij = D_ij.reshape(7,7)\n",
    "\n",
    "#Step 2 - calculate D for tour T\n",
    "D = calculateLengthOfTour(T,D_ij)\n",
    "print(D)"
   ]
  },
  {
   "cell_type": "code",
   "execution_count": null,
   "metadata": {},
   "outputs": [],
   "source": []
  },
  {
   "cell_type": "code",
   "execution_count": null,
   "metadata": {},
   "outputs": [],
   "source": []
  }
 ],
 "metadata": {
  "kernelspec": {
   "display_name": "Python 3",
   "language": "python",
   "name": "python3"
  },
  "language_info": {
   "codemirror_mode": {
    "name": "ipython",
    "version": 3
   },
   "file_extension": ".py",
   "mimetype": "text/x-python",
   "name": "python",
   "nbconvert_exporter": "python",
   "pygments_lexer": "ipython3",
   "version": "3.6.4"
  }
 },
 "nbformat": 4,
 "nbformat_minor": 2
}
